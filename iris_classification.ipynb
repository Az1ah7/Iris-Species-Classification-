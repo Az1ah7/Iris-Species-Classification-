{
 "cells": [
  {
   "cell_type": "markdown",
   "metadata": {},
   "source": [
    "#                                          Iris Species Classification "
   ]
  },
  {
   "cell_type": "markdown",
   "metadata": {
    "_cell_guid": "79c7e3d0-c299-4dcb-8224-4455121ee9b0",
    "_uuid": "d629ff2d2480ee46fbb7e2d37f6b5fab8052498a",
    "collapsed": true
   },
   "source": [
    "## 1. Import  Libraries"
   ]
  },
  {
   "cell_type": "code",
   "execution_count": 1,
   "metadata": {},
   "outputs": [],
   "source": [
    "import pandas as pd\n",
    "import numpy as np\n",
    "import os\n",
    "\n",
    "# Plotting libraries\n",
    "import matplotlib.pyplot as plt\n",
    "\n",
    "\n",
    "# SKLearn libraries\n",
    "from sklearn.preprocessing import LabelEncoder\n",
    "from sklearn.model_selection import train_test_split\n",
    "from sklearn.preprocessing import LabelEncoder, StandardScaler\n",
    "from sklearn.metrics import confusion_matrix, classification_report\n",
    "\n",
    "# Tensorflow libraries\n",
    "import tensorflow as tf\n",
    "from tensorflow import keras\n",
    "from tensorflow.keras.models import Sequential\n"
   ]
  },
  {
   "cell_type": "code",
   "execution_count": 2,
   "metadata": {},
   "outputs": [],
   "source": [
    "# Data file path\n",
    "FILE_PATH = 'IRIS.csv'\n",
    "\n",
    "# Dataframe from csv file\n",
    "iris_data = pd.read_csv(FILE_PATH, header=0)"
   ]
  },
  {
   "cell_type": "code",
   "execution_count": 3,
   "metadata": {},
   "outputs": [
    {
     "name": "stdout",
     "output_type": "stream",
     "text": [
      "<class 'pandas.core.frame.DataFrame'>\n",
      "RangeIndex: 150 entries, 0 to 149\n",
      "Data columns (total 5 columns):\n",
      " #   Column        Non-Null Count  Dtype  \n",
      "---  ------        --------------  -----  \n",
      " 0   sepal_length  150 non-null    float64\n",
      " 1   sepal_width   150 non-null    float64\n",
      " 2   petal_length  150 non-null    float64\n",
      " 3   petal_width   150 non-null    float64\n",
      " 4   species       150 non-null    object \n",
      "dtypes: float64(4), object(1)\n",
      "memory usage: 6.0+ KB\n",
      "================================================================================\n"
     ]
    },
    {
     "data": {
      "text/html": [
       "<div>\n",
       "<style scoped>\n",
       "    .dataframe tbody tr th:only-of-type {\n",
       "        vertical-align: middle;\n",
       "    }\n",
       "\n",
       "    .dataframe tbody tr th {\n",
       "        vertical-align: top;\n",
       "    }\n",
       "\n",
       "    .dataframe thead th {\n",
       "        text-align: right;\n",
       "    }\n",
       "</style>\n",
       "<table border=\"1\" class=\"dataframe\">\n",
       "  <thead>\n",
       "    <tr style=\"text-align: right;\">\n",
       "      <th></th>\n",
       "      <th>sepal_length</th>\n",
       "      <th>sepal_width</th>\n",
       "      <th>petal_length</th>\n",
       "      <th>petal_width</th>\n",
       "      <th>species</th>\n",
       "    </tr>\n",
       "  </thead>\n",
       "  <tbody>\n",
       "    <tr>\n",
       "      <th>0</th>\n",
       "      <td>5.1</td>\n",
       "      <td>3.5</td>\n",
       "      <td>1.4</td>\n",
       "      <td>0.2</td>\n",
       "      <td>Iris-setosa</td>\n",
       "    </tr>\n",
       "    <tr>\n",
       "      <th>1</th>\n",
       "      <td>4.9</td>\n",
       "      <td>3.0</td>\n",
       "      <td>1.4</td>\n",
       "      <td>0.2</td>\n",
       "      <td>Iris-setosa</td>\n",
       "    </tr>\n",
       "    <tr>\n",
       "      <th>2</th>\n",
       "      <td>4.7</td>\n",
       "      <td>3.2</td>\n",
       "      <td>1.3</td>\n",
       "      <td>0.2</td>\n",
       "      <td>Iris-setosa</td>\n",
       "    </tr>\n",
       "    <tr>\n",
       "      <th>3</th>\n",
       "      <td>4.6</td>\n",
       "      <td>3.1</td>\n",
       "      <td>1.5</td>\n",
       "      <td>0.2</td>\n",
       "      <td>Iris-setosa</td>\n",
       "    </tr>\n",
       "    <tr>\n",
       "      <th>4</th>\n",
       "      <td>5.0</td>\n",
       "      <td>3.6</td>\n",
       "      <td>1.4</td>\n",
       "      <td>0.2</td>\n",
       "      <td>Iris-setosa</td>\n",
       "    </tr>\n",
       "    <tr>\n",
       "      <th>5</th>\n",
       "      <td>5.4</td>\n",
       "      <td>3.9</td>\n",
       "      <td>1.7</td>\n",
       "      <td>0.4</td>\n",
       "      <td>Iris-setosa</td>\n",
       "    </tr>\n",
       "    <tr>\n",
       "      <th>6</th>\n",
       "      <td>4.6</td>\n",
       "      <td>3.4</td>\n",
       "      <td>1.4</td>\n",
       "      <td>0.3</td>\n",
       "      <td>Iris-setosa</td>\n",
       "    </tr>\n",
       "    <tr>\n",
       "      <th>7</th>\n",
       "      <td>5.0</td>\n",
       "      <td>3.4</td>\n",
       "      <td>1.5</td>\n",
       "      <td>0.2</td>\n",
       "      <td>Iris-setosa</td>\n",
       "    </tr>\n",
       "    <tr>\n",
       "      <th>8</th>\n",
       "      <td>4.4</td>\n",
       "      <td>2.9</td>\n",
       "      <td>1.4</td>\n",
       "      <td>0.2</td>\n",
       "      <td>Iris-setosa</td>\n",
       "    </tr>\n",
       "    <tr>\n",
       "      <th>9</th>\n",
       "      <td>4.9</td>\n",
       "      <td>3.1</td>\n",
       "      <td>1.5</td>\n",
       "      <td>0.1</td>\n",
       "      <td>Iris-setosa</td>\n",
       "    </tr>\n",
       "  </tbody>\n",
       "</table>\n",
       "</div>"
      ],
      "text/plain": [
       "   sepal_length  sepal_width  petal_length  petal_width      species\n",
       "0           5.1          3.5           1.4          0.2  Iris-setosa\n",
       "1           4.9          3.0           1.4          0.2  Iris-setosa\n",
       "2           4.7          3.2           1.3          0.2  Iris-setosa\n",
       "3           4.6          3.1           1.5          0.2  Iris-setosa\n",
       "4           5.0          3.6           1.4          0.2  Iris-setosa\n",
       "5           5.4          3.9           1.7          0.4  Iris-setosa\n",
       "6           4.6          3.4           1.4          0.3  Iris-setosa\n",
       "7           5.0          3.4           1.5          0.2  Iris-setosa\n",
       "8           4.4          2.9           1.4          0.2  Iris-setosa\n",
       "9           4.9          3.1           1.5          0.1  Iris-setosa"
      ]
     },
     "execution_count": 3,
     "metadata": {},
     "output_type": "execute_result"
    }
   ],
   "source": [
    "iris_data.info()\n",
    "print(\"==\"*40)\n",
    "iris_data.head(10)"
   ]
  },
  {
   "cell_type": "markdown",
   "metadata": {},
   "source": [
    "## 2. Data Preprocessing"
   ]
  },
  {
   "cell_type": "code",
   "execution_count": 4,
   "metadata": {},
   "outputs": [],
   "source": [
    "X = iris_data.loc[:, iris_data.columns != 'species']\n",
    "y = iris_data.loc[:, ['species']]"
   ]
  },
  {
   "cell_type": "code",
   "execution_count": 5,
   "metadata": {},
   "outputs": [],
   "source": [
    "# Scaling the features\n",
    "scaler = StandardScaler()\n",
    "X_scaled = scaler.fit_transform(X)\n",
    "X = pd.DataFrame(X_scaled, columns=X.columns)"
   ]
  },
  {
   "cell_type": "code",
   "execution_count": 6,
   "metadata": {},
   "outputs": [],
   "source": [
    "y_enc = LabelEncoder().fit_transform(y.values.ravel())\n",
    "# Converting the label into a matrix form\n",
    "y_label = tf.keras.utils.to_categorical(y_enc)"
   ]
  },
  {
   "cell_type": "code",
   "execution_count": 7,
   "metadata": {},
   "outputs": [
    {
     "data": {
      "image/png": "[encoded data removed]",
      "text/plain": [
       "<Figure size 432x288 with 1 Axes>"
      ]
     },
     "metadata": {
      "needs_background": "light"
     },
     "output_type": "display_data"
    }
   ],
   "source": [
    "# Scatter plot visualization\n",
    "plt.scatter(X['sepal_length'], X['sepal_width'], c=y_enc)\n",
    "plt.xlabel('Sepal Length')\n",
    "plt.ylabel('Sepal Width')\n",
    "plt.title('Iris Dataset - Sepal Dimensions')\n",
    "plt.show()"
   ]
  },
  {
   "cell_type": "code",
   "execution_count": 8,
   "metadata": {},
   "outputs": [],
   "source": [
    "X_train, X_test, y_train, y_test = train_test_split(X, y_label, test_size=0.3)"
   ]
  },
  {
   "cell_type": "code",
   "execution_count": 9,
   "metadata": {},
   "outputs": [
    {
     "name": "stdout",
     "output_type": "stream",
     "text": [
      "Train shape : (105, 4), Y Train : (105, 3)\n",
      "(4,)\n"
     ]
    }
   ],
   "source": [
    "print(f\"Train shape : {X_train.shape}, Y Train : {y_train.shape}\")\n",
    "print(X_train.shape[1:])"
   ]
  },
  {
   "cell_type": "markdown",
   "metadata": {},
   "source": [
    "## 3. Sequential API Model Development"
   ]
  },
  {
   "cell_type": "code",
   "execution_count": 10,
   "metadata": {},
   "outputs": [],
   "source": [
    "def get_model():\n",
    "    model = Sequential([\n",
    "        keras.layers.Input(shape=X_train.shape[1:]),\n",
    "        keras.layers.Dense(1000, activation='relu'),\n",
    "        keras.layers.Dense(500, activation='relu',),\n",
    "        keras.layers.Dense(300, activation='relu'),\n",
    "        keras.layers.Dropout(0.2),\n",
    "        keras.layers.Dense(3, activation='softmax')\n",
    "    ])\n",
    "    \n",
    "    return model"
   ]
  },
  {
   "cell_type": "code",
   "execution_count": 13,
   "metadata": {},
   "outputs": [
    {
     "name": "stdout",
     "output_type": "stream",
     "text": [
      "Model: \"sequential\"\n",
      "_________________________________________________________________\n",
      " Layer (type)                Output Shape              Param #   \n",
      "=================================================================\n",
      " dense (Dense)               (None, 1000)              5000      \n",
      "                                                                 \n",
      " dense_1 (Dense)             (None, 500)               500500    \n",
      "                                                                 \n",
      " dense_2 (Dense)             (None, 300)               150300    \n",
      "                                                                 \n",
      " dropout (Dropout)           (None, 300)               0         \n",
      "                                                                 \n",
      " dense_3 (Dense)             (None, 3)                 903       \n",
      "                                                                 \n",
      "=================================================================\n",
      "Total params: 656703 (2.51 MB)\n",
      "Trainable params: 656703 (2.51 MB)\n",
      "Non-trainable params: 0 (0.00 Byte)\n",
      "_________________________________________________________________\n"
     ]
    }
   ],
   "source": [
    "model.summary()"
   ]
  },
  {
   "cell_type": "code",
   "execution_count": 11,
   "metadata": {},
   "outputs": [],
   "source": [
    "model = get_model()\n",
    "\n",
    "# Compile the model\n",
    "model.compile(optimizer='adam', \n",
    "              loss=keras.losses.CategoricalCrossentropy(),\n",
    "             metrics=['accuracy'])"
   ]
  },
  {
   "cell_type": "markdown",
   "metadata": {},
   "source": [
    "## 4. Model Training and Validation "
   ]
  },
  {
   "cell_type": "code",
   "execution_count": 14,
   "metadata": {
    "scrolled": false
   },
   "outputs": [
    {
     "name": "stdout",
     "output_type": "stream",
     "text": [
      "Epoch 1/50\n",
      "4/4 [==============================] - 0s 38ms/step - loss: 0.0080 - accuracy: 1.0000 - val_loss: 0.2869 - val_accuracy: 0.9556\n",
      "Epoch 2/50\n",
      "4/4 [==============================] - 0s 26ms/step - loss: 0.0041 - accuracy: 1.0000 - val_loss: 0.1991 - val_accuracy: 0.9778\n",
      "Epoch 3/50\n",
      "4/4 [==============================] - 0s 26ms/step - loss: 0.0025 - accuracy: 1.0000 - val_loss: 0.1861 - val_accuracy: 0.9778\n",
      "Epoch 4/50\n",
      "4/4 [==============================] - 0s 32ms/step - loss: 0.0066 - accuracy: 1.0000 - val_loss: 0.2181 - val_accuracy: 0.9556\n",
      "Epoch 5/50\n",
      "4/4 [==============================] - 0s 27ms/step - loss: 0.0318 - accuracy: 0.9905 - val_loss: 0.2178 - val_accuracy: 0.9778\n",
      "Epoch 6/50\n",
      "4/4 [==============================] - 0s 25ms/step - loss: 0.0106 - accuracy: 0.9905 - val_loss: 0.5797 - val_accuracy: 0.8889\n",
      "Epoch 7/50\n",
      "4/4 [==============================] - 0s 24ms/step - loss: 0.3138 - accuracy: 0.9429 - val_loss: 0.6744 - val_accuracy: 0.9111\n",
      "Epoch 8/50\n",
      "4/4 [==============================] - 0s 26ms/step - loss: 0.2672 - accuracy: 0.9429 - val_loss: 0.4180 - val_accuracy: 0.9556\n",
      "Epoch 9/50\n",
      "4/4 [==============================] - 0s 31ms/step - loss: 0.0766 - accuracy: 0.9714 - val_loss: 0.2856 - val_accuracy: 0.9556\n",
      "Epoch 10/50\n",
      "4/4 [==============================] - 0s 27ms/step - loss: 0.0248 - accuracy: 0.9905 - val_loss: 0.1503 - val_accuracy: 0.9556\n",
      "Epoch 11/50\n",
      "4/4 [==============================] - 0s 33ms/step - loss: 0.0278 - accuracy: 0.9810 - val_loss: 0.0726 - val_accuracy: 0.9556\n",
      "Epoch 12/50\n",
      "4/4 [==============================] - 0s 33ms/step - loss: 0.0261 - accuracy: 0.9905 - val_loss: 0.0493 - val_accuracy: 0.9778\n",
      "Epoch 13/50\n",
      "4/4 [==============================] - 0s 23ms/step - loss: 0.0237 - accuracy: 0.9905 - val_loss: 0.0672 - val_accuracy: 0.9778\n",
      "Epoch 14/50\n",
      "4/4 [==============================] - 0s 25ms/step - loss: 0.0217 - accuracy: 1.0000 - val_loss: 0.0735 - val_accuracy: 0.9778\n",
      "Epoch 15/50\n",
      "4/4 [==============================] - 0s 27ms/step - loss: 0.0131 - accuracy: 1.0000 - val_loss: 0.0790 - val_accuracy: 0.9556\n",
      "Epoch 16/50\n",
      "4/4 [==============================] - 0s 32ms/step - loss: 0.0183 - accuracy: 0.9905 - val_loss: 0.1119 - val_accuracy: 0.9556\n",
      "Epoch 17/50\n",
      "4/4 [==============================] - 0s 28ms/step - loss: 0.0123 - accuracy: 1.0000 - val_loss: 0.1430 - val_accuracy: 0.9556\n",
      "Epoch 18/50\n",
      "4/4 [==============================] - 0s 27ms/step - loss: 0.0082 - accuracy: 1.0000 - val_loss: 0.1709 - val_accuracy: 0.9556\n",
      "Epoch 19/50\n",
      "4/4 [==============================] - 0s 27ms/step - loss: 0.0068 - accuracy: 1.0000 - val_loss: 0.1855 - val_accuracy: 0.9556\n",
      "Epoch 20/50\n",
      "4/4 [==============================] - 0s 26ms/step - loss: 0.0051 - accuracy: 1.0000 - val_loss: 0.1872 - val_accuracy: 0.9556\n",
      "Epoch 21/50\n",
      "4/4 [==============================] - 0s 25ms/step - loss: 0.0038 - accuracy: 1.0000 - val_loss: 0.1860 - val_accuracy: 0.9556\n",
      "Epoch 22/50\n",
      "4/4 [==============================] - 0s 32ms/step - loss: 0.0033 - accuracy: 1.0000 - val_loss: 0.1823 - val_accuracy: 0.9556\n",
      "Epoch 23/50\n",
      "4/4 [==============================] - 0s 25ms/step - loss: 0.0041 - accuracy: 1.0000 - val_loss: 0.1853 - val_accuracy: 0.9556\n",
      "Epoch 24/50\n",
      "4/4 [==============================] - 0s 31ms/step - loss: 0.0025 - accuracy: 1.0000 - val_loss: 0.1988 - val_accuracy: 0.9556\n",
      "Epoch 25/50\n",
      "4/4 [==============================] - 0s 28ms/step - loss: 0.0012 - accuracy: 1.0000 - val_loss: 0.2063 - val_accuracy: 0.9556\n",
      "Epoch 26/50\n",
      "4/4 [==============================] - 0s 27ms/step - loss: 0.0017 - accuracy: 1.0000 - val_loss: 0.2119 - val_accuracy: 0.9556\n",
      "Epoch 27/50\n",
      "4/4 [==============================] - 0s 28ms/step - loss: 0.0020 - accuracy: 1.0000 - val_loss: 0.2101 - val_accuracy: 0.9556\n",
      "Epoch 28/50\n",
      "4/4 [==============================] - 0s 27ms/step - loss: 0.0015 - accuracy: 1.0000 - val_loss: 0.2029 - val_accuracy: 0.9556\n",
      "Epoch 29/50\n",
      "4/4 [==============================] - 0s 24ms/step - loss: 0.0012 - accuracy: 1.0000 - val_loss: 0.2019 - val_accuracy: 0.9556\n",
      "Epoch 30/50\n",
      "4/4 [==============================] - 0s 25ms/step - loss: 0.0012 - accuracy: 1.0000 - val_loss: 0.2055 - val_accuracy: 0.9556\n",
      "Epoch 31/50\n",
      "4/4 [==============================] - 0s 25ms/step - loss: 0.0010 - accuracy: 1.0000 - val_loss: 0.2108 - val_accuracy: 0.9556\n",
      "Epoch 32/50\n",
      "4/4 [==============================] - 0s 26ms/step - loss: 8.5451e-04 - accuracy: 1.0000 - val_loss: 0.2176 - val_accuracy: 0.9556\n",
      "Epoch 33/50\n",
      "4/4 [==============================] - 0s 29ms/step - loss: 7.8638e-04 - accuracy: 1.0000 - val_loss: 0.2250 - val_accuracy: 0.9556\n",
      "Epoch 34/50\n",
      "4/4 [==============================] - 0s 22ms/step - loss: 6.4489e-04 - accuracy: 1.0000 - val_loss: 0.2322 - val_accuracy: 0.9556\n",
      "Epoch 35/50\n",
      "4/4 [==============================] - 0s 27ms/step - loss: 4.4112e-04 - accuracy: 1.0000 - val_loss: 0.2379 - val_accuracy: 0.9556\n",
      "Epoch 36/50\n",
      "4/4 [==============================] - 0s 26ms/step - loss: 5.1869e-04 - accuracy: 1.0000 - val_loss: 0.2415 - val_accuracy: 0.9556\n",
      "Epoch 37/50\n",
      "4/4 [==============================] - 0s 28ms/step - loss: 6.3732e-04 - accuracy: 1.0000 - val_loss: 0.2449 - val_accuracy: 0.9556\n",
      "Epoch 38/50\n",
      "4/4 [==============================] - 0s 28ms/step - loss: 4.4652e-04 - accuracy: 1.0000 - val_loss: 0.2483 - val_accuracy: 0.9556\n",
      "Epoch 39/50\n",
      "4/4 [==============================] - 0s 28ms/step - loss: 3.0555e-04 - accuracy: 1.0000 - val_loss: 0.2505 - val_accuracy: 0.9556\n",
      "Epoch 40/50\n",
      "4/4 [==============================] - 0s 27ms/step - loss: 5.5542e-04 - accuracy: 1.0000 - val_loss: 0.2528 - val_accuracy: 0.9556\n",
      "Epoch 41/50\n",
      "4/4 [==============================] - 0s 26ms/step - loss: 4.4018e-04 - accuracy: 1.0000 - val_loss: 0.2557 - val_accuracy: 0.9556\n",
      "Epoch 42/50\n",
      "4/4 [==============================] - 0s 29ms/step - loss: 5.2270e-04 - accuracy: 1.0000 - val_loss: 0.2595 - val_accuracy: 0.9556\n",
      "Epoch 43/50\n",
      "4/4 [==============================] - 0s 32ms/step - loss: 4.4845e-04 - accuracy: 1.0000 - val_loss: 0.2621 - val_accuracy: 0.9556\n",
      "Epoch 44/50\n",
      "4/4 [==============================] - 0s 24ms/step - loss: 3.5612e-04 - accuracy: 1.0000 - val_loss: 0.2652 - val_accuracy: 0.9556\n",
      "Epoch 45/50\n",
      "4/4 [==============================] - 0s 30ms/step - loss: 3.1174e-04 - accuracy: 1.0000 - val_loss: 0.2671 - val_accuracy: 0.9556\n",
      "Epoch 46/50\n",
      "4/4 [==============================] - 0s 27ms/step - loss: 4.5757e-04 - accuracy: 1.0000 - val_loss: 0.2702 - val_accuracy: 0.9556\n",
      "Epoch 47/50\n",
      "4/4 [==============================] - 0s 25ms/step - loss: 2.9235e-04 - accuracy: 1.0000 - val_loss: 0.2752 - val_accuracy: 0.9556\n",
      "Epoch 48/50\n",
      "4/4 [==============================] - 0s 29ms/step - loss: 5.1457e-04 - accuracy: 1.0000 - val_loss: 0.2810 - val_accuracy: 0.9556\n",
      "Epoch 49/50\n",
      "4/4 [==============================] - 0s 27ms/step - loss: 4.7043e-04 - accuracy: 1.0000 - val_loss: 0.2865 - val_accuracy: 0.9556\n",
      "Epoch 50/50\n",
      "4/4 [==============================] - 0s 27ms/step - loss: 3.7551e-04 - accuracy: 1.0000 - val_loss: 0.2888 - val_accuracy: 0.9556\n"
     ]
    }
   ],
   "source": [
    "history = model.fit(X_train, y_train, epochs=50, validation_data=(X_test, y_test), verbose=1)"
   ]
  },
  {
   "cell_type": "markdown",
   "metadata": {},
   "source": [
    "## 5. Model Evaluation and Performance Reporting"
   ]
  },
  {
   "cell_type": "code",
   "execution_count": 18,
   "metadata": {},
   "outputs": [
    {
     "name": "stdout",
     "output_type": "stream",
     "text": [
      "2/2 [==============================] - 0s 5ms/step\n",
      "\n",
      "** Confusion Matrix:\n",
      " [[15  1  0]\n",
      " [ 0 14  0]\n",
      " [ 0  0 15]]\n",
      "\n",
      "** Result Report:\n",
      "               precision    recall  f1-score   support\n",
      "\n",
      "           0       1.00      0.94      0.97        16\n",
      "           1       0.93      1.00      0.97        14\n",
      "           2       1.00      1.00      1.00        15\n",
      "\n",
      "    accuracy                           0.98        45\n",
      "   macro avg       0.98      0.98      0.98        45\n",
      "weighted avg       0.98      0.98      0.98        45\n",
      "\n",
      "2/2 - 0s - loss: 0.0262 - accuracy: 0.9778 - 46ms/epoch - 23ms/step\n",
      "\n",
      "** Test loss:\n",
      " 0.02619853988289833\n",
      "\n",
      "** Test accuracy:\n",
      " 0.9777777791023254\n"
     ]
    }
   ],
   "source": [
    "prediction = model.predict(X_test)\n",
    "\n",
    "y_test_class = np.argmax(y_test, axis=1)\n",
    "y_pred_class = np.argmax(prediction, axis=1)\n",
    "\n",
    "print(\"\\n** Confusion Matrix:\\n\", confusion_matrix(y_test_class, y_pred_class))\n",
    "print(\"\\n** Result Report:\\n\", classification_report(y_test_class, y_pred_class))\n",
    "\n",
    "test_scores = model.evaluate(X_test, y_test, verbose=2)\n",
    "print(\"\\n** Test loss:\\n\", test_scores[0])\n",
    "print(\"\\n** Test accuracy:\\n\", test_scores[1])"
   ]
  },
  {
   "cell_type": "markdown",
   "metadata": {},
   "source": [
    "## 6. Performance Monitor"
   ]
  },
  {
   "cell_type": "code",
   "execution_count": 16,
   "metadata": {},
   "outputs": [
    {
     "data": {
      "image/png": "[encoded data removed]",
      "text/plain": [
       "<Figure size 720x432 with 1 Axes>"
      ]
     },
     "metadata": {
      "needs_background": "light"
     },
     "output_type": "display_data"
    }
   ],
   "source": [
    "pd.DataFrame(history.history).plot(figsize=(10,6))\n",
    "plt.grid(True)\n",
    "plt.gca().set_ylim(0, 1)\n",
    "plt.show()"
   ]
  },
  {
   "cell_type": "markdown",
   "metadata": {},
   "source": [
    "## 7. Prediction and Comparison of Model Output with Actual Labels"
   ]
  },
  {
   "cell_type": "code",
   "execution_count": 17,
   "metadata": {},
   "outputs": [
    {
     "name": "stdout",
     "output_type": "stream",
     "text": [
      "1/1 [==============================] - 0s 91ms/step\n",
      "Actual data : [[0. 0. 1.]\n",
      " [0. 0. 1.]\n",
      " [0. 1. 0.]]\n",
      "2\n",
      "2\n",
      "1\n"
     ]
    }
   ],
   "source": [
    "new_data, y_actual = X_test[:3], y_test[:3]\n",
    "\n",
    "y_proba = model.predict(new_data)\n",
    "\n",
    "print(f\"Actual data : {y_actual}\")\n",
    "\n",
    "for pred in y_proba:\n",
    "    print(np.argmax(pred))"
   ]
  },
  {
   "cell_type": "markdown",
   "metadata": {},
   "source": [
    "# Reflection"
   ]
  },
  {
   "cell_type": "markdown",
   "metadata": {},
   "source": [
    "#### I found the development of a classification model using the well-known iris species dataset to be truly captivating. The whole process immersed me in a sense of excitement as I explored and experimented with different layers to enhance the performance of my model. It was satisfying to monitor the training progress and witness the gradual increase in accuracy with each epoch, while also observing the decline in error rate.\n",
    "\n",
    "\n",
    "#### In conclusion, I cherished the opportunity to apply my knowledge and skills to the iris species dataset. "
   ]
  },
  {
   "cell_type": "markdown",
   "metadata": {},
   "source": [
    "###### Done by Azzah "
   ]
  }
 ],
 "metadata": {
  "kernelspec": {
   "display_name": "Python 3 (ipykernel)",
   "language": "python",
   "name": "python3"
  },
  "language_info": {
   "codemirror_mode": {
    "name": "ipython",
    "version": 3
   },
   "file_extension": ".py",
   "mimetype": "text/x-python",
   "name": "python",
   "nbconvert_exporter": "python",
   "pygments_lexer": "ipython3",
   "version": "3.9.12"
  }
 },
 "nbformat": 4,
 "nbformat_minor": 4
}
